{
 "cells": [
  {
   "metadata": {
    "ExecuteTime": {
     "end_time": "2024-09-17T18:48:43.060064Z",
     "start_time": "2024-09-17T18:48:43.054705Z"
    }
   },
   "cell_type": "code",
   "source": [
    "# The Dependencies used in this project\n",
    "\n",
    "import os\n",
    "import cv2\n",
    "import numpy as np\n",
    "import pandas as pd\n",
    "from sklearn.model_selection import train_test_split\n",
    "from sklearn.tree import DecisionTreeClassifier\n",
    "from sklearn.metrics import accuracy_score \n",
    "from sklearn import datasets\n",
    "import matplotlib.pyplot as plt\n",
    "import pickle"
   ],
   "id": "9eea725ba07ea1f1",
   "outputs": [],
   "execution_count": 20
  },
  {
   "metadata": {
    "ExecuteTime": {
     "end_time": "2024-09-17T18:48:45.870548Z",
     "start_time": "2024-09-17T18:48:45.845892Z"
    }
   },
   "cell_type": "code",
   "source": "df = datasets.load_digits()\n",
   "id": "61bb84dc01ee0bfb",
   "outputs": [],
   "execution_count": 21
  },
  {
   "metadata": {
    "ExecuteTime": {
     "end_time": "2024-09-17T18:48:46.063512Z",
     "start_time": "2024-09-17T18:48:46.058591Z"
    }
   },
   "cell_type": "code",
   "source": "print(df.keys())",
   "id": "a12f1485f2757bef",
   "outputs": [
    {
     "name": "stdout",
     "output_type": "stream",
     "text": [
      "dict_keys(['data', 'target', 'frame', 'feature_names', 'target_names', 'images', 'DESCR'])\n"
     ]
    }
   ],
   "execution_count": 22
  },
  {
   "metadata": {
    "ExecuteTime": {
     "end_time": "2024-09-17T18:48:46.239999Z",
     "start_time": "2024-09-17T18:48:46.235858Z"
    }
   },
   "cell_type": "code",
   "source": [
    "x = df[\"data\"]\n",
    "y = df[\"target\"]"
   ],
   "id": "6678b5a4a68529df",
   "outputs": [],
   "execution_count": 23
  },
  {
   "metadata": {
    "ExecuteTime": {
     "end_time": "2024-09-17T19:24:28.582138Z",
     "start_time": "2024-09-17T19:24:28.532191Z"
    }
   },
   "cell_type": "code",
   "source": [
    "x_train, x_test, y_train, y_test = train_test_split(x, y, test_size=0.01)\n",
    "\n",
    "tree = DecisionTreeClassifier()\n",
    "tree.fit(x_train, y_train)\n",
    "\n",
    "\n",
    "prediction = tree.predict(x_test)\n",
    "print(prediction)"
   ],
   "id": "754aac905a09415b",
   "outputs": [
    {
     "name": "stdout",
     "output_type": "stream",
     "text": [
      "[6 5 6 4 3 6 2 5 3 4 2 4 0 3 9 8 5 4]\n"
     ]
    }
   ],
   "execution_count": 64
  },
  {
   "metadata": {
    "ExecuteTime": {
     "end_time": "2024-09-17T19:24:29.354645Z",
     "start_time": "2024-09-17T19:24:29.347816Z"
    }
   },
   "cell_type": "code",
   "source": "accuracy_score(y_test, prediction)",
   "id": "6a4eb0943f680db0",
   "outputs": [
    {
     "data": {
      "text/plain": [
       "0.8888888888888888"
      ]
     },
     "execution_count": 65,
     "metadata": {},
     "output_type": "execute_result"
    }
   ],
   "execution_count": 65
  },
  {
   "metadata": {
    "ExecuteTime": {
     "end_time": "2024-09-17T19:24:32.487909Z",
     "start_time": "2024-09-17T19:24:32.480949Z"
    }
   },
   "cell_type": "code",
   "source": [
    "cust_thing = [0,0,0,0,0,0,0,0,0,0,1,1,1,0,0,0,0,0,0,0,0,1,0,0,0,0,0,0,0,1,0,0,0,1,1,1,1,0,0,0,1,0,0,1,1,0,0,0,1,0.02,1,0,0,1,0,0,0,0,0,0,0,0,0,0]\n",
    "cust_thing_array = np.array(cust_thing).reshape(1, -1)\n",
    "predict3 = tree.predict(cust_thing_array)"
   ],
   "id": "23392881fd4c6f9d",
   "outputs": [],
   "execution_count": 66
  },
  {
   "metadata": {
    "ExecuteTime": {
     "end_time": "2024-09-17T19:24:35.162842Z",
     "start_time": "2024-09-17T19:24:35.155061Z"
    }
   },
   "cell_type": "code",
   "source": "accuracy_score([2], predict3)",
   "id": "fd71ebfcc2433765",
   "outputs": [
    {
     "data": {
      "text/plain": [
       "0.0"
      ]
     },
     "execution_count": 67,
     "metadata": {},
     "output_type": "execute_result"
    }
   ],
   "execution_count": 67
  },
  {
   "metadata": {
    "ExecuteTime": {
     "end_time": "2024-09-17T19:24:36.399398Z",
     "start_time": "2024-09-17T19:24:36.392919Z"
    }
   },
   "cell_type": "code",
   "source": "predict3",
   "id": "c1b9bc1687f40845",
   "outputs": [
    {
     "data": {
      "text/plain": [
       "array([4])"
      ]
     },
     "execution_count": 68,
     "metadata": {},
     "output_type": "execute_result"
    }
   ],
   "execution_count": 68
  },
  {
   "metadata": {},
   "cell_type": "code",
   "outputs": [],
   "execution_count": null,
   "source": "    ",
   "id": "241ebdb865abe4df"
  }
 ],
 "metadata": {
  "kernelspec": {
   "display_name": "Python 3",
   "language": "python",
   "name": "python3"
  },
  "language_info": {
   "codemirror_mode": {
    "name": "ipython",
    "version": 2
   },
   "file_extension": ".py",
   "mimetype": "text/x-python",
   "name": "python",
   "nbconvert_exporter": "python",
   "pygments_lexer": "ipython2",
   "version": "2.7.6"
  }
 },
 "nbformat": 4,
 "nbformat_minor": 5
}
